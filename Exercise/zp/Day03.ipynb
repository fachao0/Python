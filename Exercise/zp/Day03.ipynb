{
  "nbformat": 4,
  "nbformat_minor": 0,
  "metadata": {
    "colab": {
      "name": "Untitled2.ipynb",
      "provenance": [],
      "authorship_tag": "ABX9TyPFrmER4CtLORtSaqLf45c2",
      "include_colab_link": true
    },
    "kernelspec": {
      "name": "python3",
      "display_name": "Python 3"
    },
    "language_info": {
      "name": "python"
    }
  },
  "cells": [
    {
      "cell_type": "markdown",
      "metadata": {
        "id": "view-in-github",
        "colab_type": "text"
      },
      "source": [
        "<a href=\"https://colab.research.google.com/github/zhupeng-0112358/Python/blob/main/Exercise/zp/Day3.ipynb\" target=\"_parent\"><img src=\"https://colab.research.google.com/assets/colab-badge.svg\" alt=\"Open In Colab\"/></a>"
      ]
    },
    {
      "cell_type": "code",
      "metadata": {
        "colab": {
          "base_uri": "https://localhost:8080/"
        },
        "id": "PkdVtU8FI7Wv",
        "outputId": "9f8a4abc-b69f-47ab-d85a-4d9694756955"
      },
      "source": [
        "from random import randint\n",
        "\n",
        "list = []\n",
        "for i in range(30):\n",
        "    list.append(randint(1, 100))\n",
        "\n",
        "\n",
        "def func(list, k):\n",
        "    list1 = list[:k]\n",
        "    list1.reverse()\n",
        "    list2 = list[k:]\n",
        "    list2.reverse()\n",
        "    list1.extend(list2)\n",
        "    return list1\n",
        "\n",
        "print('原始列表：', list)\n",
        "print('分割元素值：', list[9])\n",
        "print('排序后的列表：', func(list, 9))"
      ],
      "execution_count": 2,
      "outputs": [
        {
          "output_type": "stream",
          "text": [
            "原始列表： [25, 7, 90, 51, 93, 79, 89, 90, 75, 11, 62, 95, 65, 29, 8, 4, 31, 29, 52, 77, 1, 71, 42, 5, 81, 83, 56, 92, 72, 20]\n",
            "分割元素值： 11\n",
            "排序后的列表： [75, 90, 89, 79, 93, 51, 90, 7, 25, 20, 72, 92, 56, 83, 81, 5, 42, 71, 1, 77, 52, 29, 31, 4, 8, 29, 65, 95, 62, 11]\n"
          ],
          "name": "stdout"
        }
      ]
    }
  ]
}