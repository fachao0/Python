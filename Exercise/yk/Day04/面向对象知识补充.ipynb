{
  "nbformat": 4,
  "nbformat_minor": 0,
  "metadata": {
    "colab": {
      "name": "Day04",
      "provenance": []
    },
    "kernelspec": {
      "display_name": "Python 3",
      "name": "python3"
    },
    "language_info": {
      "name": "python"
    }
  },
  "cells": [
    {
      "cell_type": "markdown",
      "metadata": {
        "id": "4aynFyBB4Nwz"
      },
      "source": [
        "### 1. 类有三种定义方式"
      ]
    },
    {
      "cell_type": "code",
      "metadata": {
        "id": "PgBNHR9ldCuZ",
        "colab": {
          "base_uri": "https://localhost:8080/"
        },
        "outputId": "1b393957-3cec-4772-e5d4-a0f4c9bbaf52"
      },
      "source": [
        "class one(object):\n",
        "  def a(self):\n",
        "    print(self.__class__.__name__)\n",
        "\n",
        "class two:\n",
        "  def a(self):\n",
        "    print(self.__class__.__name__)\n",
        "\n",
        "class three():\n",
        "  def a(self):\n",
        "    print(self.__class__.__name__)\n",
        "\n",
        "one().a()\n",
        "two().a()\n",
        "three().a()"
      ],
      "execution_count": null,
      "outputs": [
        {
          "output_type": "stream",
          "text": [
            "one\n",
            "two\n",
            "three\n"
          ],
          "name": "stdout"
        }
      ]
    },
    {
      "cell_type": "markdown",
      "metadata": {
        "id": "Fh6WiOcqv3PD"
      },
      "source": [
        "### 2. Python类定义的方法中为什么第一个参数都是**self**？"
      ]
    },
    {
      "cell_type": "code",
      "metadata": {
        "id": "QIGjj3GBw2bL",
        "colab": {
          "base_uri": "https://localhost:8080/"
        },
        "outputId": "7e471002-69c9-4c1d-8828-3bb7f4a233e9"
      },
      "source": [
        "class Student(object):\n",
        "\n",
        "    def __init__(self, name, age):\n",
        "        self.name = name\n",
        "        self.age = age\n",
        "\n",
        "    def study(self, course_name):\n",
        "        print('%s正在学习%s.' % (self.name, course_name))\n",
        "\n",
        "    def watch_movie(self):\n",
        "        if self.age < 18:\n",
        "            print('%s只能观看《熊出没》.' % self.name)\n",
        "        else:\n",
        "            print('%s正在观看《电锯惊魂》.' % self.name)\n",
        "\n",
        "def main():\n",
        "    stu1 = Student('大天狗', 28)\n",
        "    stu1.study('Python程序设计')\n",
        "    stu1.watch_movie()\n",
        "\n",
        "\n",
        "main()"
      ],
      "execution_count": null,
      "outputs": [
        {
          "output_type": "stream",
          "text": [
            "大天狗正在学习Python程序设计.\n",
            "大天狗正在观看《电锯惊魂》.\n"
          ],
          "name": "stdout"
        }
      ]
    },
    {
      "cell_type": "markdown",
      "metadata": {
        "id": "1fn8Cce8xBgJ"
      },
      "source": [
        "我们把self改成别的参数可以吗？试一下"
      ]
    },
    {
      "cell_type": "code",
      "metadata": {
        "id": "atH8GSGmxP5z",
        "colab": {
          "base_uri": "https://localhost:8080/"
        },
        "outputId": "3b657633-5c9e-4ce2-94b5-b6f178a3ee99"
      },
      "source": [
        "class Student(object):\n",
        "\n",
        "    def __init__(a, name, age):\n",
        "        a.name = name\n",
        "        a.age = age\n",
        "\n",
        "    def study(a, course_name):\n",
        "        print('%s正在学习%s.' % (a.name, course_name))\n",
        "\n",
        "    def watch_movie(a):\n",
        "        if a.age < 18:\n",
        "            print('%s只能观看《熊出没》.' % a.name)\n",
        "        else:\n",
        "            print('%s正在观看《电锯惊魂》.' % a.name)\n",
        "\n",
        "def main():\n",
        "    stu1 = Student('黑童子', 28)\n",
        "    stu1.study('Python程序设计')\n",
        "    stu1.watch_movie()\n",
        "\n",
        "\n",
        "if __name__ == '__main__':\n",
        "    main()\n",
        "  "
      ],
      "execution_count": null,
      "outputs": [
        {
          "output_type": "stream",
          "text": [
            "11\n",
            "黑童子正在学习Python程序设计.\n",
            "黑童子正在观看《电锯惊魂》.\n"
          ],
          "name": "stdout"
        }
      ]
    },
    {
      "cell_type": "markdown",
      "metadata": {
        "id": "SCKxr_wVxzEL"
      },
      "source": [
        "#### 结论：\n",
        "\n",
        "\n",
        "*   self 不是关键字，所以它可以改成任意值（为了规范默认使用self）\n",
        "*   self 只是起占位置作用。因为Python在调用一个实例对象的方法时，会自动地、隐式地**将对象本身作为第一个参数传递给类的函数**，并继续传入其它参数。\n",
        "\n",
        "\n",
        "\n",
        "---\n",
        "\n",
        "### 3. Python类中可定义的三种方法类型\n",
        "\n",
        "\n",
        "*   实例方法\n",
        "  * 必须要有第一个默认参数（规范是self，代表该对象的占位符）\n",
        "  * 必须通过实例化调用\n",
        "*   类方法\n",
        "  * 必须要有第一个默认参数（规范是cls，代表该类的占位符）\n",
        "  * 可以通过实例化或者类调用\n",
        "*   静态方法\n",
        "  * 没有默认参数要求\n",
        "  * 可以通过实例化或者类调用\n",
        "\n",
        "看一下示例代码，更好地去理解三种方法的特性\n",
        "\n"
      ]
    },
    {
      "cell_type": "code",
      "metadata": {
        "id": "4BAcaZ97DrvT",
        "colab": {
          "base_uri": "https://localhost:8080/"
        },
        "outputId": "8d0a7789-2bdc-4152-e65c-c0d2068c4c4c"
      },
      "source": [
        "class A(object):\n",
        "    def m1(self, n):\n",
        "        print(\"输出 self:\", self)\n",
        "\n",
        "    @classmethod\n",
        "    def m2(cls, n):\n",
        "        print(\"输出 cls:\", cls)\n",
        "\n",
        "    @staticmethod\n",
        "    def m3(n):\n",
        "        print(\"输出 static:\", n)\n",
        "\n",
        "a = A()\n",
        "a.m1(1)\n",
        "A.m2(1)\n",
        "A.m3(1)"
      ],
      "execution_count": null,
      "outputs": [
        {
          "output_type": "stream",
          "text": [
            "输出 self: <__main__.A object at 0x7f3e4c113ad0>\n",
            "输出 cls: <class '__main__.A'>\n",
            "输出 static: 1\n"
          ],
          "name": "stdout"
        }
      ]
    },
    {
      "cell_type": "markdown",
      "metadata": {
        "id": "cZMYhLtNE7bx"
      },
      "source": [
        "#### 实例方法"
      ]
    },
    {
      "cell_type": "code",
      "metadata": {
        "id": "wJwxELPZE-ZT",
        "colab": {
          "base_uri": "https://localhost:8080/"
        },
        "outputId": "8d235a70-c052-4fa3-f547-ad66b319dc7c"
      },
      "source": [
        "print(a.m1)\n",
        "print(A.m1)"
      ],
      "execution_count": null,
      "outputs": [
        {
          "output_type": "stream",
          "text": [
            "<bound method A.m1 of <__main__.A object at 0x7f3e4c113ad0>>\n",
            "<function A.m1 at 0x7f3e4c1140e0>\n"
          ],
          "name": "stdout"
        }
      ]
    },
    {
      "cell_type": "markdown",
      "metadata": {
        "id": "2sg5MfdkFm6p"
      },
      "source": [
        "可以看到它们的区别 \n",
        "\n",
        "实例化调用时显示的是一个*已经绑定对象*的方法，因为我们在调用时通过self把实例化对象**隐式**传递了过去\n",
        "\n",
        "类调用时显示的只是一个方法，没有绑定对象，所以需要手动**显式**去绑定‘\n",
        "\n",
        "所以，我们可以得出结论，下面两种方法是等价的\n",
        "\n"
      ]
    },
    {
      "cell_type": "code",
      "metadata": {
        "id": "LUPGlcvzHXCs",
        "colab": {
          "base_uri": "https://localhost:8080/"
        },
        "outputId": "1ea03545-6f08-45d4-9895-940e65aa6a36"
      },
      "source": [
        "a.m1(1)\n",
        "A.m1(a, 1)"
      ],
      "execution_count": null,
      "outputs": [
        {
          "output_type": "stream",
          "text": [
            "输出 self: <__main__.A object at 0x7f3e4c113ad0>\n",
            "输出 self: <__main__.A object at 0x7f3e4c113ad0>\n"
          ],
          "name": "stdout"
        }
      ]
    },
    {
      "cell_type": "markdown",
      "metadata": {
        "id": "_htyQRV2H-v_"
      },
      "source": [
        "如果类调用时不传递实例化对象，则会报错  \n",
        "\n",
        "这就是整个实例化调用的过程\n",
        "\n",
        "#### 类方法"
      ]
    },
    {
      "cell_type": "code",
      "metadata": {
        "id": "0kGk0HXhfcZD",
        "colab": {
          "base_uri": "https://localhost:8080/"
        },
        "outputId": "434c248b-c8fd-4df8-9dee-b0fa8b4969de"
      },
      "source": [
        "print(A.m2)\n",
        "print(a.m2)"
      ],
      "execution_count": null,
      "outputs": [
        {
          "output_type": "stream",
          "text": [
            "<bound method A.m2 of <class '__main__.A'>>\n",
            "<bound method A.m2 of <class '__main__.A'>>\n"
          ],
          "name": "stdout"
        }
      ]
    },
    {
      "cell_type": "markdown",
      "metadata": {
        "id": "tOvbtsL_gNMH"
      },
      "source": [
        "因为m2是类方法，两种方式都可以调用，不管是 A.m2 还是 a.m2，都是已经自动绑定了类对象A的方法（bound method）\n",
        "\n",
        "第一种会将类本身通过cls传过去绑定\n",
        "\n",
        "第二种可以通过实例对象a找到它所属的类是A，找到A之后自动绑定到cls\n",
        "\n",
        "所以，下面两种调用方法是等价的"
      ]
    },
    {
      "cell_type": "code",
      "metadata": {
        "id": "U-iFm5UThp-d",
        "colab": {
          "base_uri": "https://localhost:8080/"
        },
        "outputId": "613c8216-1c67-4462-9abd-3021daaf6076"
      },
      "source": [
        "A.m2(1)\n",
        "a.m2(1)"
      ],
      "execution_count": null,
      "outputs": [
        {
          "output_type": "stream",
          "text": [
            "输出 cls: <class '__main__.A'>\n",
            "输出 cls: <class '__main__.A'>\n"
          ],
          "name": "stdout"
        }
      ]
    },
    {
      "cell_type": "markdown",
      "metadata": {
        "id": "L1yLzXNviOp_"
      },
      "source": [
        "#### 静态方法"
      ]
    },
    {
      "cell_type": "code",
      "metadata": {
        "id": "x2YnGBPYicmN"
      },
      "source": [
        "print(A.m3)\n",
        "print(a.m3)"
      ],
      "execution_count": null,
      "outputs": []
    },
    {
      "cell_type": "markdown",
      "metadata": {
        "id": "keenGcN9igdb"
      },
      "source": [
        "因为两种方式都可以调用，可以看出它们的输出结果也是一样的。\n",
        "\n",
        "静态方法可以理解为普通的函数，恰巧放到了类中，所以没有对象和类的绑定，也就没有默认参数这一说。\n",
        "\n",
        "#### 思考：什么时候用类方法，什么时候用静态方法呢？\n",
        "\n",
        "- 从用法上来看\n",
        "  - staticmethod不需要表示自身对象的self和自身类的cls参数，就跟使用函数一样。要调用到这个类的一些属性方法，只能直接类名.属性名或类名.方法名。\n",
        "  - classmethod也不需要self参数，但第一个参数需要是表示自身类的cls参数。可以来调用类的属性，类的方法，实例化对象。"
      ]
    },
    {
      "cell_type": "code",
      "metadata": {
        "id": "MeSvdaPvlb-2",
        "colab": {
          "base_uri": "https://localhost:8080/"
        },
        "outputId": "bc4de5cf-931d-4676-a088-74b67a4e8e3a"
      },
      "source": [
        "class B:\n",
        "    num = 1\n",
        "    def foo(self):\n",
        "        print('foo')\n",
        " \n",
        "    @staticmethod\n",
        "    def static_foo():\n",
        "        print('static_foo', B.num)\n",
        " \n",
        "    @classmethod\n",
        "    def class_foo(cls):\n",
        "        print('class_foo', cls.num)\n",
        "        cls().foo()\n",
        " \n",
        "B.static_foo()\n",
        "B.class_foo()"
      ],
      "execution_count": null,
      "outputs": [
        {
          "output_type": "stream",
          "text": [
            "static_foo 1\n",
            "class_foo 1\n",
            "foo\n"
          ],
          "name": "stdout"
        }
      ]
    },
    {
      "cell_type": "markdown",
      "metadata": {
        "id": "KG5FGM2CmueZ"
      },
      "source": [
        "- 从使用场景上来看\n",
        "  - staticmethod：如果**在方法中不需要访问任何实例方法和属性，纯粹地通过传入参数并返回数据的功能性方法**，那么它就适合用静态方法来定义。它节省了实例化对象的开销成本，往往**这种方法放在类外面的模块层作为一个函数存在也是可以的**，而放在类中，**仅为这个类服务**。（例如那个三角形正确性验证，它没有引用任何类或者实例相关的属性和方法）\n",
        "  - classmethod：可以继承，重构类的时候不必要修改构造函数，只需要额外添加你要处理的函数，然后使用装饰符 @classmethod 就可以了。"
      ]
    },
    {
      "cell_type": "code",
      "metadata": {
        "colab": {
          "base_uri": "https://localhost:8080/"
        },
        "id": "rfantwU6fBsh",
        "outputId": "69c3b3ea-fb4d-4274-c83f-3c0f12d590ed"
      },
      "source": [
        "class Data_test:\n",
        "\n",
        "    def __init__(self,year=0,month=0,day=0):\n",
        "        self.day=day\n",
        "        self.month=month\n",
        "        self.year=year\n",
        "\n",
        "    def out_date(self):\n",
        "        print(self.year, self.month, self.day)\n",
        "\n",
        "t=Data_test(2021,5,1)\n",
        "t.out_date()"
      ],
      "execution_count": null,
      "outputs": [
        {
          "output_type": "stream",
          "text": [
            "2021 5 1\n"
          ],
          "name": "stdout"
        }
      ]
    },
    {
      "cell_type": "code",
      "metadata": {
        "colab": {
          "base_uri": "https://localhost:8080/"
        },
        "id": "st8VQLjCb_jz",
        "outputId": "a28d5cd9-5d8e-446d-fb77-be9a28f0b3b8"
      },
      "source": [
        "class Data_test:\n",
        "  \n",
        "    def __init__(self,year=0,month=0,day=0):\n",
        "        self.day=day\n",
        "        self.month=month\n",
        "        self.year=year\n",
        "\n",
        "    @classmethod\n",
        "    def get_date(cls, string_date):\n",
        "        year,month,day=map(int,string_date.split('-'))\n",
        "        date1=cls(year,month,day)\n",
        "        return date1\n",
        "\n",
        "    def out_date(self):\n",
        "        print(self.year, self.month, self.day)\n",
        "\n",
        "r = Data_test.get_date(\"2021-5-1\")\n",
        "r.out_date()"
      ],
      "execution_count": null,
      "outputs": [
        {
          "output_type": "stream",
          "text": [
            "2021 5 1\n"
          ],
          "name": "stdout"
        }
      ]
    },
    {
      "cell_type": "code",
      "metadata": {
        "id": "RQFnrqlXfQqV",
        "cellView": "code"
      },
      "source": [
        "#@title 默认标题文本\n",
        "variable_name = \"\" #@param {type:\"string\"}\n",
        "class Data_test:\n",
        "  \n",
        "    def __init__(self,year=0,month=0,day=0):\n",
        "        self.day=day\n",
        "        self.month=month\n",
        "        self.year=year\n",
        "\n",
        "    def out_date(self):\n",
        "        print(self.year, self.month, self.day)\n",
        "\n",
        "# 新增功能：\n",
        "class Str2IntParam(Data_test):\n",
        "\n",
        "    @classmethod\n",
        "    def get_date(cls, string_date):\n",
        "        year,month,day=map(int,string_date.split('-'))\n",
        "        date1=cls(year,month,day)\n",
        "        #返回的是一个初始化后的类\n",
        "        return date1\n",
        "\n",
        "r = Str2IntParam.get_date(\"2021-5-1\")\n",
        "r.out_date()"
      ],
      "execution_count": null,
      "outputs": []
    },
    {
      "cell_type": "markdown",
      "metadata": {
        "id": "czlAM27F_6Zg"
      },
      "source": [
        "stackoverflow经典[示例](https://stackoverflow.com/questions/12179271/meaning-of-classmethod-and-staticmethod-for-beginner)，强烈建议阅读！"
      ]
    },
    {
      "cell_type": "code",
      "metadata": {
        "id": "n3d0LKLDAA0y"
      },
      "source": [
        "class Date(object):\n",
        "\n",
        "    def __init__(self, day=0, month=0, year=0):\n",
        "        self.day = day\n",
        "        self.month = month\n",
        "        self.year = year\n",
        "\n",
        "    @classmethod\n",
        "    def from_string(cls, date_as_string):\n",
        "        day, month, year = map(int, date_as_string.split('-'))\n",
        "        date1 = cls(day, month, year)\n",
        "        return date1\n",
        "\n",
        "    @staticmethod\n",
        "    def is_date_valid(date_as_string):\n",
        "        day, month, year = map(int, date_as_string.split('-'))\n",
        "        return day <= 31 and month <= 12 and year <= 3999\n",
        "\n",
        "date2 = Date.from_string('11-09-2012')\n",
        "is_date = Date.is_date_valid('11-09-2012')"
      ],
      "execution_count": null,
      "outputs": []
    },
    {
      "cell_type": "markdown",
      "metadata": {
        "id": "FeSMWrL0BXvv"
      },
      "source": [
        "\n",
        "\n",
        "---\n",
        "\n",
        "### 4.强大的**装饰器**\n",
        "\n",
        "引入装饰器之前，我们先做下知识铺垫 \n",
        "\n",
        "在 Python 中，函数是[一等公民](https://zh.wikipedia.org/wiki/%E5%A4%B4%E7%AD%89%E5%87%BD%E6%95%B0)（**first-class citizen**），函数也是对象。 \n",
        "\n",
        "什么意思呢？ \n",
        "\n",
        "简单来说就是Python 中的函数和整数、字符串等常见概念的地位是平等的，一个整数和一个字符串等对象可以干的事，一个函数也可以办到（**可以被当作别的函数的参数、函数的返回值，赋值给变量或存储在数据结构中**）。\n",
        "\n",
        "看下例子： \n",
        "\n",
        "1. 函数的参数"
      ]
    },
    {
      "cell_type": "code",
      "metadata": {
        "colab": {
          "base_uri": "https://localhost:8080/"
        },
        "id": "OqnKZGtYDAhc",
        "outputId": "4112e0fe-8ea1-4202-9179-45640ee791d0"
      },
      "source": [
        "def get_message(message):\n",
        "    return 'Got a message: ' + message\n",
        " \n",
        " \n",
        "def root_call(func, message):\n",
        "    print(func(message))\n",
        "    \n",
        "root_call(get_message, 'hello world')"
      ],
      "execution_count": null,
      "outputs": [
        {
          "output_type": "stream",
          "text": [
            "Got a message: hello world\n"
          ],
          "name": "stdout"
        }
      ]
    },
    {
      "cell_type": "markdown",
      "metadata": {
        "id": "RccZD6vuDaa2"
      },
      "source": [
        "2. 函数的返回值"
      ]
    },
    {
      "cell_type": "code",
      "metadata": {
        "colab": {
          "base_uri": "https://localhost:8080/"
        },
        "id": "RFXfyi_GDdEI",
        "outputId": "e282c643-6923-4c5c-94af-f6d84a7e9696"
      },
      "source": [
        "def func_closure():\n",
        "    def get_message(message):\n",
        "        print('Got a message: {}'.format(message))\n",
        "    return get_message\n",
        " \n",
        "send_message = func_closure()\n",
        "send_message('hello world')"
      ],
      "execution_count": null,
      "outputs": [
        {
          "output_type": "stream",
          "text": [
            "Got a message: hello world\n"
          ],
          "name": "stdout"
        }
      ]
    },
    {
      "cell_type": "markdown",
      "metadata": {
        "id": "zSE6G32GDNpU"
      },
      "source": [
        "3. 赋值给变量"
      ]
    },
    {
      "cell_type": "code",
      "metadata": {
        "colab": {
          "base_uri": "https://localhost:8080/"
        },
        "id": "vQ8qdupJC8V_",
        "outputId": "cd9499ab-dab0-47e4-cb6d-82ffff7b0907"
      },
      "source": [
        "def func(message):\n",
        "    print('Got a message: {}'.format(message))\n",
        "    \n",
        "send_message = func\n",
        "send_message('hello world')"
      ],
      "execution_count": null,
      "outputs": [
        {
          "output_type": "stream",
          "text": [
            "Got a message: hello world\n"
          ],
          "name": "stdout"
        }
      ]
    },
    {
      "cell_type": "markdown",
      "metadata": {
        "id": "3KICAw3ODkka"
      },
      "source": [
        "4. 函数中定义函数"
      ]
    },
    {
      "cell_type": "code",
      "metadata": {
        "id": "qA2CjPXGDndV"
      },
      "source": [
        "def func(message):\n",
        "    def get_message(message):\n",
        "        print('Got a message: {}'.format(message))\n",
        "    return get_message(message)\n",
        " \n",
        "func('hello world')"
      ],
      "execution_count": null,
      "outputs": []
    },
    {
      "cell_type": "markdown",
      "metadata": {
        "id": "wd1MZAtSD229"
      },
      "source": [
        "#### 简单的装饰器"
      ]
    },
    {
      "cell_type": "code",
      "metadata": {
        "colab": {
          "base_uri": "https://localhost:8080/"
        },
        "id": "OxnJbbgHEAxN",
        "outputId": "3df5691c-7821-451a-c6e7-029be4f33324"
      },
      "source": [
        "def my_decorator(func):\n",
        "    def wrapper():\n",
        "        print('wrapper of decorator')\n",
        "        func()\n",
        "    return wrapper\n",
        " \n",
        "def greet():\n",
        "    print('hello world')\n",
        " \n",
        "greet = my_decorator(greet)\n",
        "greet()"
      ],
      "execution_count": null,
      "outputs": [
        {
          "output_type": "stream",
          "text": [
            "wrapper of decorator\n",
            "hello world\n"
          ],
          "name": "stdout"
        }
      ]
    },
    {
      "cell_type": "markdown",
      "metadata": {
        "id": "8VMSZUNwEKqH"
      },
      "source": [
        "这里的函数 my_decorator() 就是一个装饰器，它把真正需要执行的函数 greet() 包裹在其中，并且改变了它的行为，但是原函数 greet() 不变。 \n",
        "\n",
        "上述代码在 Python 中有更简单、更优雅的表示："
      ]
    },
    {
      "cell_type": "code",
      "metadata": {
        "colab": {
          "base_uri": "https://localhost:8080/"
        },
        "id": "koIUoiadESMW",
        "outputId": "e22c22b5-2cbc-45f6-9126-e79b68d68b38"
      },
      "source": [
        "def my_decorator(func):\n",
        "    def wrapper():\n",
        "        print('wrapper of decorator')\n",
        "        func()\n",
        "    return wrapper\n",
        " \n",
        "@my_decorator\n",
        "def greet():\n",
        "    print('hello world')\n",
        " \n",
        "greet()"
      ],
      "execution_count": null,
      "outputs": [
        {
          "output_type": "stream",
          "text": [
            "wrapper of decorator\n",
            "hello world\n"
          ],
          "name": "stdout"
        }
      ]
    }
  ]
}