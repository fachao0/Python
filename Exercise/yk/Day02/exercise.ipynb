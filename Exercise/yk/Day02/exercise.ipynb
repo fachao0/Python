{
  "nbformat": 4,
  "nbformat_minor": 0,
  "metadata": {
    "colab": {
      "name": "Day02.ipynb",
      "provenance": [],
      "collapsed_sections": [],
      "authorship_tag": "ABX9TyOn9SluAR1zN3rELKyk8c+/",
      "include_colab_link": true
    },
    "kernelspec": {
      "name": "python3",
      "display_name": "Python 3"
    },
    "language_info": {
      "name": "python"
    }
  },
  "cells": [
    {
      "cell_type": "markdown",
      "metadata": {
        "id": "view-in-github",
        "colab_type": "text"
      },
      "source": [
        "<a href=\"https://colab.research.google.com/github/DinogoByte/Python/blob/main/Exercise/dyk/Day02/Day02.ipynb\" target=\"_parent\"><img src=\"https://colab.research.google.com/assets/colab-badge.svg\" alt=\"Open In Colab\"/></a>"
      ]
    },
    {
      "cell_type": "markdown",
      "metadata": {
        "id": "dYktFEJo0MhP"
      },
      "source": [
        "### 数字回文判断"
      ]
    },
    {
      "cell_type": "code",
      "metadata": {
        "colab": {
          "base_uri": "https://localhost:8080/"
        },
        "id": "djGl8zNxzifK",
        "outputId": "0818a392-9a3c-42a0-e4e0-afb347edee01"
      },
      "source": [
        "num = input('input a num:')\n",
        "\n",
        "reverse_num = num[::-1]\n",
        "\n",
        "if reverse_num == num:\n",
        "  print(True)\n",
        "else:\n",
        "  print(False)"
      ],
      "execution_count": null,
      "outputs": [
        {
          "output_type": "stream",
          "text": [
            "input a num:12321\n",
            "True\n"
          ],
          "name": "stdout"
        }
      ]
    }
  ]
}